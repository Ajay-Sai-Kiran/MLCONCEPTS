{
  "nbformat": 4,
  "nbformat_minor": 0,
  "metadata": {
    "colab": {
      "name": "Gradient Descent Implementation.ipynb",
      "provenance": [],
      "authorship_tag": "ABX9TyNWE4r1jp2gE3DXhn07bhb+",
      "include_colab_link": true
    },
    "kernelspec": {
      "name": "python3",
      "display_name": "Python 3"
    },
    "language_info": {
      "name": "python"
    }
  },
  "cells": [
    {
      "cell_type": "markdown",
      "metadata": {
        "id": "view-in-github",
        "colab_type": "text"
      },
      "source": [
        "<a href=\"https://colab.research.google.com/github/ajaysaikiran2208/MLCONCEPTS/blob/main/Gradient_Descent_Implementation.ipynb\" target=\"_parent\"><img src=\"https://colab.research.google.com/assets/colab-badge.svg\" alt=\"Open In Colab\"/></a>"
      ]
    },
    {
      "cell_type": "code",
      "metadata": {
        "id": "69-ID5Z_AK0b"
      },
      "source": [
        "dataset=[[2,6],[3,6],[5,10]]"
      ],
      "execution_count": 1,
      "outputs": []
    },
    {
      "cell_type": "code",
      "metadata": {
        "id": "i3FWUMSyAmCn"
      },
      "source": [
        "x=[k[0] for k in dataset]"
      ],
      "execution_count": 2,
      "outputs": []
    },
    {
      "cell_type": "code",
      "metadata": {
        "id": "Stt0a1sTArpX"
      },
      "source": [
        "y=[k[1] for k in dataset]"
      ],
      "execution_count": 3,
      "outputs": []
    },
    {
      "cell_type": "code",
      "metadata": {
        "id": "t16eSU42Aulx"
      },
      "source": [
        "#Paramters\n",
        "b0,b1=0,1.0\n",
        "#Hyperparameters\n",
        "lr=0.001\n",
        "max_iterations=10000\n",
        "error=[]"
      ],
      "execution_count": 5,
      "outputs": []
    },
    {
      "cell_type": "code",
      "metadata": {
        "id": "NuO4sSLGAvJu"
      },
      "source": [
        "for epoch in range(max_iterations):\n",
        "    cost_b0, cost_b1 = 0,0\n",
        "\n",
        "    for i in range(len(x)):\n",
        "        y_pred = b0+b1*x[i]\n",
        "        cost_b0 += y[i] - y_pred\n",
        "        cost_b1 += (y[i] - y_pred)*x[i]\n",
        "\n",
        "    b0 = b0 + lr * cost_b0\n",
        "    b1 = b1 + lr * cost_b1\n",
        "\n"
      ],
      "execution_count": 21,
      "outputs": []
    },
    {
      "cell_type": "code",
      "metadata": {
        "id": "VWN62h4nBvSK"
      },
      "source": [
        "b0=b0+lr*cost_b0\n",
        "b1=b0+lr*cost_b1"
      ],
      "execution_count": 22,
      "outputs": []
    },
    {
      "cell_type": "code",
      "metadata": {
        "colab": {
          "base_uri": "https://localhost:8080/"
        },
        "id": "7qZTSitxC8YW",
        "outputId": "47baeb00-a460-4da4-ac2c-44107fd622d3"
      },
      "source": [
        "b0,b1"
      ],
      "execution_count": 23,
      "outputs": [
        {
          "output_type": "execute_result",
          "data": {
            "text/plain": [
              "(2.5061113000157227, 2.506105322725492)"
            ]
          },
          "metadata": {
            "tags": []
          },
          "execution_count": 23
        }
      ]
    },
    {
      "cell_type": "code",
      "metadata": {
        "id": "tGYv9w5ZCNxw"
      },
      "source": [
        "X_new=10\n",
        "y_new=b0+b1*X_new"
      ],
      "execution_count": 25,
      "outputs": []
    },
    {
      "cell_type": "code",
      "metadata": {
        "colab": {
          "base_uri": "https://localhost:8080/"
        },
        "id": "D6O2G-5eCVZH",
        "outputId": "192ed692-2e0c-40e0-a48b-40b155c5593f"
      },
      "source": [
        "y_new"
      ],
      "execution_count": 26,
      "outputs": [
        {
          "output_type": "execute_result",
          "data": {
            "text/plain": [
              "27.56716452727064"
            ]
          },
          "metadata": {
            "tags": []
          },
          "execution_count": 26
        }
      ]
    },
    {
      "cell_type": "code",
      "metadata": {
        "id": "79vSgJqsCtCQ"
      },
      "source": [
        "#Linear regression with scikitlearn"
      ],
      "execution_count": 20,
      "outputs": []
    },
    {
      "cell_type": "code",
      "metadata": {
        "id": "DruRzx2rDGo-"
      },
      "source": [
        "import numpy as np\n",
        "from sklearn.linear_model import LinearRegression"
      ],
      "execution_count": 29,
      "outputs": []
    },
    {
      "cell_type": "code",
      "metadata": {
        "id": "4farD9FHDjq8"
      },
      "source": [
        "X=[[0,1],[5,1],[15,2],[25,5],[35,11],[45,35],[60,35]]\n",
        "y=[4,5,20,32,22,38,43]\n",
        "X=np.array(X)\n",
        "y=np.array(y)"
      ],
      "execution_count": 30,
      "outputs": []
    },
    {
      "cell_type": "code",
      "metadata": {
        "colab": {
          "base_uri": "https://localhost:8080/"
        },
        "id": "3LUFTqmfEUH6",
        "outputId": "e0a65491-60cf-42fe-d6f0-c52dbdbd5fd1"
      },
      "source": [
        "model=LinearRegression()\n",
        "model.fit(X,y)"
      ],
      "execution_count": 31,
      "outputs": [
        {
          "output_type": "execute_result",
          "data": {
            "text/plain": [
              "LinearRegression(copy_X=True, fit_intercept=True, n_jobs=None, normalize=False)"
            ]
          },
          "metadata": {
            "tags": []
          },
          "execution_count": 31
        }
      ]
    },
    {
      "cell_type": "code",
      "metadata": {
        "id": "mGNJMT9WElfj",
        "outputId": "b60dba66-d93a-49a3-a2d2-9e713d5d3a83",
        "colab": {
          "base_uri": "https://localhost:8080/"
        }
      },
      "source": [
        "model.intercept_"
      ],
      "execution_count": 32,
      "outputs": [
        {
          "output_type": "execute_result",
          "data": {
            "text/plain": [
              "5.758929293746451"
            ]
          },
          "metadata": {
            "tags": []
          },
          "execution_count": 32
        }
      ]
    },
    {
      "cell_type": "code",
      "metadata": {
        "id": "hXC5eZxuEn3W",
        "outputId": "09947303-432f-4174-a762-372be7429be3",
        "colab": {
          "base_uri": "https://localhost:8080/"
        }
      },
      "source": [
        "model.coef_"
      ],
      "execution_count": 35,
      "outputs": [
        {
          "output_type": "execute_result",
          "data": {
            "text/plain": [
              "array([ 0.7161779 , -0.09783796])"
            ]
          },
          "metadata": {
            "tags": []
          },
          "execution_count": 35
        }
      ]
    },
    {
      "cell_type": "code",
      "metadata": {
        "id": "NSOUnl1MEpn7",
        "outputId": "611c8f62-12eb-436d-8b0a-3c05a96e9891",
        "colab": {
          "base_uri": "https://localhost:8080/"
        }
      },
      "source": [
        "model.predict([[25,5]])"
      ],
      "execution_count": 37,
      "outputs": [
        {
          "output_type": "execute_result",
          "data": {
            "text/plain": [
              "array([23.17418696])"
            ]
          },
          "metadata": {
            "tags": []
          },
          "execution_count": 37
        }
      ]
    },
    {
      "cell_type": "code",
      "metadata": {
        "id": "QMB85HKWEswe",
        "outputId": "0aa198d2-4195-4232-84f5-b353e49843aa",
        "colab": {
          "base_uri": "https://localhost:8080/"
        }
      },
      "source": [
        "model.predict(X)"
      ],
      "execution_count": 38,
      "outputs": [
        {
          "output_type": "execute_result",
          "data": {
            "text/plain": [
              "array([ 5.66109134,  9.24198083, 16.30592185, 23.17418696, 29.74893819,\n",
              "       34.56260618, 45.30527465])"
            ]
          },
          "metadata": {
            "tags": []
          },
          "execution_count": 38
        }
      ]
    },
    {
      "cell_type": "code",
      "metadata": {
        "id": "zwFc9PY3FDz_",
        "outputId": "5b43b913-56a2-480c-8736-16cd4c93c60c",
        "colab": {
          "base_uri": "https://localhost:8080/"
        }
      },
      "source": [
        "model.score(X,y)"
      ],
      "execution_count": 39,
      "outputs": [
        {
          "output_type": "execute_result",
          "data": {
            "text/plain": [
              "0.8646360707222717"
            ]
          },
          "metadata": {
            "tags": []
          },
          "execution_count": 39
        }
      ]
    },
    {
      "cell_type": "code",
      "metadata": {
        "id": "SKe8uDOEGENJ"
      },
      "source": [
        ""
      ],
      "execution_count": null,
      "outputs": []
    }
  ]
}