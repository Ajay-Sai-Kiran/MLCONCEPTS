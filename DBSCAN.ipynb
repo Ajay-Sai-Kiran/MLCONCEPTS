{
  "nbformat": 4,
  "nbformat_minor": 0,
  "metadata": {
    "colab": {
      "name": "DBSCAN.ipynb",
      "provenance": [],
      "authorship_tag": "ABX9TyOwoEl6NhVR6vNE6PZfIeqR",
      "include_colab_link": true
    },
    "kernelspec": {
      "name": "python3",
      "display_name": "Python 3"
    },
    "language_info": {
      "name": "python"
    }
  },
  "cells": [
    {
      "cell_type": "markdown",
      "metadata": {
        "id": "view-in-github",
        "colab_type": "text"
      },
      "source": [
        "<a href=\"https://colab.research.google.com/github/ajaysaikiran2208/MLCONCEPTS/blob/main/DBSCAN.ipynb\" target=\"_parent\"><img src=\"https://colab.research.google.com/assets/colab-badge.svg\" alt=\"Open In Colab\"/></a>"
      ]
    },
    {
      "cell_type": "code",
      "metadata": {
        "id": "sKPUxMsTGUxT"
      },
      "source": [
        "import pandas as pd\n",
        "import numpy as np\n",
        "import matplotlib.pyplot as plt\n",
        "from sklearn.datasets import make_blobs\n",
        "from matplotlib.pyplot import figure\n",
        "from pandas import DataFrame"
      ],
      "execution_count": 3,
      "outputs": []
    },
    {
      "cell_type": "code",
      "metadata": {
        "id": "-tT3DBSbHdRT"
      },
      "source": [
        "X,_=make_blobs(n_samples=500,centers=3,n_features=2,random_state=20)"
      ],
      "execution_count": 4,
      "outputs": []
    },
    {
      "cell_type": "code",
      "metadata": {
        "colab": {
          "base_uri": "https://localhost:8080/",
          "height": 498
        },
        "id": "8Z7W_vcsH0lI",
        "outputId": "52ec20d6-b95f-4433-967e-2c1fdde45c5c"
      },
      "source": [
        "df=DataFrame(dict(x=X[:,0],y=X[:,1]))\n",
        "fig,ax=plt.subplots(figsize=(8,8))\n",
        "df.plot(ax=ax,kind=\"scatter\",x='x',y='y')\n",
        "plt.xlabel('X_1')\n",
        "plt.ylabel('X_2')\n",
        "plt.show()"
      ],
      "execution_count": 6,
      "outputs": [
        {
          "output_type": "display_data",
          "data": {
            "image/png": "[encoded data removed]",
            "text/plain": [
              "<Figure size 576x576 with 1 Axes>"
            ]
          },
          "metadata": {
            "tags": [],
            "needs_background": "light"
          }
        }
      ]
    },
    {
      "cell_type": "code",
      "metadata": {
        "id": "PyewvGdPIwNp"
      },
      "source": [
        "from sklearn.cluster import DBSCAN\n",
        "clustering=DBSCAN(eps=1,min_samples=5).fit(X)\n",
        "cluster=clustering.labels_"
      ],
      "execution_count": 20,
      "outputs": []
    },
    {
      "cell_type": "code",
      "metadata": {
        "colab": {
          "base_uri": "https://localhost:8080/"
        },
        "id": "fRPz3CVmJB4D",
        "outputId": "0a7d336e-469a-4431-effa-f76c588b676a"
      },
      "source": [
        "len(set(cluster))"
      ],
      "execution_count": 21,
      "outputs": [
        {
          "output_type": "execute_result",
          "data": {
            "text/plain": [
              "4"
            ]
          },
          "metadata": {
            "tags": []
          },
          "execution_count": 21
        }
      ]
    },
    {
      "cell_type": "code",
      "metadata": {
        "id": "DbL8UPxtJFlg"
      },
      "source": [
        "def show_clusters(X,cluster):\n",
        "  df=DataFrame(dict (x=X[:,0],y=X[:,1],label=cluster))\n",
        "  colors= {-1:'red',0:'blue',1:'orange',2:'green',3:'skyblue'}\n",
        "  fig, ax=plt.subplots(figsize=(8,8))\n",
        "  grouped=df.groupby('label')\n",
        "  for key,group in grouped:\n",
        "      group.plot(ax=ax,kind=\"scatter\",x='x',y='y',label=key,color=colors[key])\n",
        "      plt.xlabel('X_1')\n",
        "      plt.ylabel('X_2')\n",
        "      plt.show()\n",
        " "
      ],
      "execution_count": 47,
      "outputs": []
    },
    {
      "cell_type": "code",
      "metadata": {
        "colab": {
          "base_uri": "https://localhost:8080/"
        },
        "id": "fqUI6CMhP6Fz",
        "outputId": "d18bfb74-e935-4b73-f42d-717bc4cca24e"
      },
      "source": [
        "y=X[:,1]\n",
        "y"
      ],
      "execution_count": 50,
      "outputs": [
        {
          "output_type": "execute_result",
          "data": {
            "text/plain": [
              "array([ 2.35758008,  6.92264204,  2.89695028,  3.94600093,  8.11011278,\n",
              "        8.78538034,  6.01476085,  4.98996139,  2.08163347,  5.25803866,\n",
              "        3.64679119,  6.91368146,  8.2373802 ,  8.61892674,  7.10545678,\n",
              "        2.40621   ,  8.29570927,  3.42572178,  7.96423462,  5.72643487,\n",
              "        4.055909  ,  2.44903849,  7.72595353,  5.36459066,  7.67845969,\n",
              "        9.31206357,  3.75230762,  8.27779615,  3.16444618,  4.33805308,\n",
              "        7.32404507,  6.86240514,  5.43892028,  6.84380574,  4.35269366,\n",
              "        6.86777078,  4.73565432,  7.74956259,  7.00271195,  8.94025465,\n",
              "        7.00141449,  9.66655733,  5.22430404,  6.18178284,  7.95084907,\n",
              "        5.47191581,  4.2689905 ,  3.83294292,  3.35358578,  5.35697504,\n",
              "        6.78340069,  6.0564897 ,  6.49416838,  9.510461  ,  8.20582745,\n",
              "        3.40417682,  6.49342544,  8.68947674,  5.90448054,  6.55438514,\n",
              "        4.89890901,  5.85937677,  6.41990405,  8.74307137,  4.72383843,\n",
              "        3.18511504,  3.5473458 ,  7.39185808,  4.60743187,  5.54035572,\n",
              "        6.60970589,  9.77647999,  7.0781695 ,  7.85430227,  7.48406522,\n",
              "        4.74565058,  3.28931333,  5.33266206,  6.12183934,  4.39570865,\n",
              "        9.11624047,  7.82424385,  2.96929895,  4.02218212,  5.3647119 ,\n",
              "        7.48612265,  6.11556838,  5.92582486,  2.40677383,  7.57429362,\n",
              "        2.57048293,  5.29724521,  6.45669929,  3.22714998,  3.63154725,\n",
              "        4.03035138, 10.01411256,  2.52174212,  7.23848591,  4.29828803,\n",
              "        7.83207208,  7.3430364 ,  9.45767271,  2.93940371,  6.78668541,\n",
              "        7.67886016,  7.40070192,  8.30778219,  7.4590588 ,  3.87241065,\n",
              "        4.20982998,  1.54051291,  6.07646184,  4.26691159,  4.00660952,\n",
              "        7.56269914,  7.06479682,  3.97422376,  8.95798315,  6.84350566,\n",
              "        9.4016816 ,  5.87101263,  8.23166119,  2.84070489,  3.13987883,\n",
              "        7.42646295,  8.42655253,  7.69348865,  7.62060987,  5.58478112,\n",
              "        4.57810847,  6.31610526,  8.37030199,  2.20952963,  5.61101265,\n",
              "        9.30607075,  7.95244104,  3.72555971,  4.93762639,  8.81227391,\n",
              "        6.97579352,  6.52260393,  5.44116815,  6.90718626,  6.46855495,\n",
              "        7.8770468 ,  7.14896608,  4.85769226,  7.20434253,  7.84261726,\n",
              "        3.79501118,  3.81400835,  5.32088283,  4.06640058,  2.87174922,\n",
              "        6.40911521,  7.05670562,  3.18771027,  8.19998973,  4.95459926,\n",
              "        6.2924101 ,  5.34290635,  4.26576652,  5.98605179,  3.85600274,\n",
              "        3.59661251,  3.42162616,  3.10931513,  3.13503439,  4.31485565,\n",
              "        7.89127012,  2.66202788,  8.50854949,  8.5454073 ,  8.26149705,\n",
              "        7.58403812,  6.52834209,  7.31722275,  3.77387633,  9.49900292,\n",
              "        7.11190662,  7.77411525,  7.39451325,  5.41493358,  5.31374092,\n",
              "        5.41891209,  7.0310672 ,  5.46164616,  7.95578312,  6.96597772,\n",
              "        8.06832216,  8.87768002,  3.42575606,  6.53760781,  5.24990931,\n",
              "        8.53371949,  7.16898023,  6.43485618,  7.80061273,  8.27524534,\n",
              "        4.37827701,  7.60549203,  8.1615341 ,  8.85893477,  3.32451342,\n",
              "        5.75739998,  6.87236095,  8.41401879,  6.72375361,  7.64581044,\n",
              "        3.69278225,  3.99048383,  8.39066296,  9.4354182 ,  4.58788428,\n",
              "        8.19817043,  6.95947265,  7.44112945,  5.02196059,  7.4422797 ,\n",
              "        5.31121848,  5.39397026,  4.62943285,  6.69716553,  3.31695298,\n",
              "        6.12121434,  8.58928763,  3.92971929,  6.10223631,  3.7953294 ,\n",
              "        8.79466321,  3.8826045 ,  7.87603233,  4.13624209,  4.86658609,\n",
              "        3.46647911,  5.30133158,  6.87691142,  4.01900875,  6.86484509,\n",
              "        7.60762748,  4.87260874,  5.25729333,  8.51397085,  6.77546362,\n",
              "        6.7543486 ,  4.77203893,  4.92048739,  9.1610621 ,  5.4132625 ,\n",
              "        6.76217648,  8.34833708,  5.49234238,  4.75945502,  5.95722287,\n",
              "        4.94311319,  6.06137658,  9.35566615,  7.8258003 ,  4.08802044,\n",
              "        7.6552094 ,  9.1842175 ,  5.9477511 ,  6.92804575,  4.65929562,\n",
              "        5.46757546,  3.37097158,  5.16268214,  7.03023598,  1.56084396,\n",
              "        8.40339271,  6.61935379,  6.57833023,  7.10230996,  4.39235297,\n",
              "       10.07598742,  3.67472525,  5.21110567,  8.70457249,  7.09811034,\n",
              "        7.99120069,  7.44319565,  8.17344413,  2.81406824,  5.58618069,\n",
              "        4.66137897,  7.02877473,  3.81723065,  6.28045577,  3.3231697 ,\n",
              "        5.78225923,  3.95492459,  8.39385997,  7.94631463,  2.89093896,\n",
              "        5.38277771,  6.9576073 ,  3.67438257,  6.84969507,  5.49577525,\n",
              "        9.52190711,  2.18066961,  8.34981287,  3.69897358,  4.75753624,\n",
              "        3.36090903,  8.54868999,  6.80540187,  2.7716537 ,  2.7008789 ,\n",
              "        4.41395173,  7.47182365,  7.80500866,  7.86171477,  6.15920725,\n",
              "        9.92619645,  9.26824239,  5.02303124,  7.65029208,  7.28152796,\n",
              "        6.67306224,  6.80609988,  7.65904408,  5.46222632,  3.03018599,\n",
              "        9.38911932,  6.20886032,  6.34153503,  8.31370355,  5.77836728,\n",
              "        8.02934857,  6.32576981,  8.88886541,  7.2479642 ,  3.59105318,\n",
              "        2.13464386,  4.31938454,  6.21549406,  8.71404994,  9.14364246,\n",
              "        5.45562094,  4.2336899 ,  7.75999756,  2.94152619,  3.07250834,\n",
              "        7.70664867,  7.80842947,  8.22310679,  6.7229715 ,  8.30073589,\n",
              "        6.45085842,  6.80814003,  7.94172362,  9.42926092,  4.33196657,\n",
              "        8.70143965,  3.60457587,  6.13901875,  8.95835504,  3.58674782,\n",
              "        8.54809723,  6.47038075,  8.54749177,  9.28705277,  2.95446381,\n",
              "        3.45661844,  4.4364274 ,  5.28706606,  5.90468143,  6.30323311,\n",
              "        7.75985573,  6.81774802,  7.97717636,  3.84197642,  4.23862044,\n",
              "        7.098741  ,  7.27088371,  4.21852075,  7.5158143 ,  5.08553627,\n",
              "        7.62073077,  7.72731096,  4.68895859,  6.91485721,  8.36829966,\n",
              "        9.06956749,  9.96417617,  9.10319957,  6.26935763,  6.40317382,\n",
              "        7.07652644,  5.7723097 ,  4.9476682 ,  8.04376791,  6.03414662,\n",
              "        2.65863653,  6.34128434,  4.53656934,  4.57832893,  5.56841742,\n",
              "        4.06696464,  9.13544543,  4.76457177,  5.62801897,  7.80916726,\n",
              "        5.92528417,  3.62522611,  7.68394766,  7.40423345,  7.19657208,\n",
              "        3.22237764,  3.45018931,  3.8201954 ,  5.88732584,  6.62190534,\n",
              "        4.48798084,  3.30589629,  6.05281051,  7.59380159,  5.33236845,\n",
              "        7.86080327,  5.55381836,  8.94376112,  4.97429314,  6.44256614,\n",
              "        5.85449899,  4.70731993,  5.57893444,  3.79187687,  3.1509628 ,\n",
              "        7.7784681 ,  8.36064298,  5.03095804,  4.61111496,  8.4510448 ,\n",
              "        6.3528937 ,  3.59674341,  5.79254862,  8.84499195,  7.26942001,\n",
              "        9.08003341,  9.40079615,  7.23908406,  7.64300565,  6.48758134,\n",
              "        2.93467254,  8.36068903,  7.42757471,  8.06333734,  9.36841404,\n",
              "        7.53700274,  2.6661062 ,  4.62290971,  6.69945975,  3.21099584,\n",
              "        6.75647603,  4.52066104,  8.44167752,  8.88263655,  4.97364418,\n",
              "        2.99491161,  3.06349383,  3.03571239,  2.96671669,  7.28245373,\n",
              "        4.890758  ,  7.46086368,  6.21010604,  3.91863943,  5.58377127,\n",
              "        4.03944845,  6.88335216,  9.39735757,  3.28858537,  6.30743081,\n",
              "        4.85632177,  3.28520419,  5.85320371,  5.14104965,  9.37477301,\n",
              "        7.61385789,  5.82264535,  4.29178611,  5.89595391,  3.68166643,\n",
              "        5.26388364,  4.70695221,  4.89987975,  3.82102577,  2.71079582,\n",
              "        2.3202384 ,  7.5613926 ,  8.08402956,  6.25583465,  6.59105457,\n",
              "        4.61041788,  5.372138  ,  8.50909068,  6.0054937 ,  6.37801968])"
            ]
          },
          "metadata": {
            "tags": []
          },
          "execution_count": 50
        }
      ]
    },
    {
      "cell_type": "code",
      "metadata": {
        "id": "xtubzyxkQDJ_"
      },
      "source": [
        "show_clusters(X,cluster)"
      ],
      "execution_count": null,
      "outputs": []
    }
  ]
}