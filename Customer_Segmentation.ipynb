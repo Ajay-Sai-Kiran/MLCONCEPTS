{
  "nbformat": 4,
  "nbformat_minor": 0,
  "metadata": {
    "colab": {
      "name": "Customer Segmentation.ipynb",
      "provenance": [],
      "authorship_tag": "ABX9TyPb5yX5DUwycL1K/XatP8tx",
      "include_colab_link": true
    },
    "kernelspec": {
      "name": "python3",
      "display_name": "Python 3"
    },
    "language_info": {
      "name": "python"
    }
  },
  "cells": [
    {
      "cell_type": "markdown",
      "metadata": {
        "id": "view-in-github",
        "colab_type": "text"
      },
      "source": [
        "<a href=\"https://colab.research.google.com/github/ajaysaikiran2208/MLCONCEPTS/blob/main/Customer_Segmentation.ipynb\" target=\"_parent\"><img src=\"https://colab.research.google.com/assets/colab-badge.svg\" alt=\"Open In Colab\"/></a>"
      ]
    },
    {
      "cell_type": "markdown",
      "metadata": {
        "id": "sxlwFM5ZyfeO"
      },
      "source": [
        "##Wisconsin Diagnostic Breast Cancer (WDBC)"
      ]
    },
    {
      "cell_type": "markdown",
      "metadata": {
        "id": "NVG3OIe9yfrO"
      },
      "source": [
        "Number of instances: #569 \n",
        "\n",
        "Number of attributes: 32 (ID, diagnosis, 30 real-valued input features)\n",
        "\n",
        "Attribute information\n",
        "\n",
        "1) ID number\n",
        "2) Diagnosis (M = malignant, B = benign)\n",
        "3-32)\n",
        "\n",
        "Ten real-valued features are computed for each cell nucleus:\n",
        "\n",
        "\ta) radius (mean of distances from center to points on the perimeter)\n",
        "\tb) texture (standard deviation of gray-scale values)\n",
        "\tc) perimeter\n",
        "\td) area\n",
        "\te) smoothness (local variation in radius lengths)\n",
        "\tf) compactness (perimeter^2 / area - 1.0)\n",
        "\tg) concavity (severity of concave portions of the contour)\n",
        "\th) concave points (number of concave portions of the contour)\n",
        "\ti) symmetry \n",
        "\tj) fractal dimension (\"coastline approximation\" - 1)\n",
        "\n",
        "Several of the papers listed above contain detailed descriptions of\n",
        "how these features are computed. \n",
        "\n",
        "The mean, standard error, and \"worst\" or largest (mean of the three\n",
        "largest values) of these features were computed for each image,\n",
        "resulting in 30 features.  For instance, field 3 is Mean Radius, field\n",
        "13 is Radius SE, field 23 is Worst Radius.\n",
        "\n",
        "All feature values are recoded with four significant digits.\n",
        "Missing attribute values: none\n",
        "\n",
        "Class distribution: 357 benign, 212 malignant"
      ]
    },
    {
      "cell_type": "markdown",
      "metadata": {
        "id": "lAF7QswYaKNI"
      },
      "source": [
        "Results:\n",
        "\n",
        "\t- predicting field 2, diagnosis: B = benign, M = malignant\n",
        "\t- sets are linearly separable using all 30 input features\n",
        "\t- best predictive accuracy obtained using one separating plane\n",
        "\t\tin the 3-D space of Worst Area, Worst Smoothness and\n",
        "\t\tMean Texture.  Estimated accuracy 97.5% using repeated\n",
        "\t\t10-fold crossvalidations.  Classifier has correctly\n",
        "\t\tdiagnosed 176 consecutive new patients as of November\n",
        "\t\t1995. "
      ]
    },
    {
      "cell_type": "code",
      "metadata": {
        "colab": {
          "base_uri": "https://localhost:8080/"
        },
        "id": "hOUGhLz4y4VI",
        "outputId": "a2f67ea6-0c36-4412-91cb-18a9776f2f16"
      },
      "source": [
        "!pip install catboost"
      ],
      "execution_count": 1,
      "outputs": [
        {
          "output_type": "stream",
          "text": [
            "Collecting catboost\n",
            "\u001b[?25l  Downloading https://files.pythonhosted.org/packages/5a/41/24e14322b9986cf72a8763e0a0a69cc256cf963cf9502c8f0044a62c1ae8/catboost-0.26-cp37-none-manylinux1_x86_64.whl (69.2MB)\n",
            "\u001b[K     |████████████████████████████████| 69.2MB 53kB/s \n",
            "\u001b[?25hRequirement already satisfied: six in /usr/local/lib/python3.7/dist-packages (from catboost) (1.15.0)\n",
            "Requirement already satisfied: plotly in /usr/local/lib/python3.7/dist-packages (from catboost) (4.4.1)\n",
            "Requirement already satisfied: scipy in /usr/local/lib/python3.7/dist-packages (from catboost) (1.4.1)\n",
            "Requirement already satisfied: graphviz in /usr/local/lib/python3.7/dist-packages (from catboost) (0.10.1)\n",
            "Requirement already satisfied: numpy>=1.16.0 in /usr/local/lib/python3.7/dist-packages (from catboost) (1.19.5)\n",
            "Requirement already satisfied: matplotlib in /usr/local/lib/python3.7/dist-packages (from catboost) (3.2.2)\n",
            "Requirement already satisfied: pandas>=0.24.0 in /usr/local/lib/python3.7/dist-packages (from catboost) (1.1.5)\n",
            "Requirement already satisfied: retrying>=1.3.3 in /usr/local/lib/python3.7/dist-packages (from plotly->catboost) (1.3.3)\n",
            "Requirement already satisfied: kiwisolver>=1.0.1 in /usr/local/lib/python3.7/dist-packages (from matplotlib->catboost) (1.3.1)\n",
            "Requirement already satisfied: cycler>=0.10 in /usr/local/lib/python3.7/dist-packages (from matplotlib->catboost) (0.10.0)\n",
            "Requirement already satisfied: python-dateutil>=2.1 in /usr/local/lib/python3.7/dist-packages (from matplotlib->catboost) (2.8.1)\n",
            "Requirement already satisfied: pyparsing!=2.0.4,!=2.1.2,!=2.1.6,>=2.0.1 in /usr/local/lib/python3.7/dist-packages (from matplotlib->catboost) (2.4.7)\n",
            "Requirement already satisfied: pytz>=2017.2 in /usr/local/lib/python3.7/dist-packages (from pandas>=0.24.0->catboost) (2018.9)\n",
            "Installing collected packages: catboost\n",
            "Successfully installed catboost-0.26\n"
          ],
          "name": "stdout"
        }
      ]
    },
    {
      "cell_type": "code",
      "metadata": {
        "id": "gsMuXEhPyeJK"
      },
      "source": [
        "import pandas as pd\n",
        "import numpy as np\n",
        "from datetime import datetime \n",
        "from sklearn.preprocessing import LabelEncoder, KBinsDiscretizer\n",
        "from lightgbm import LGBMClassifier, LGBMRegressor\n",
        "from xgboost import XGBClassifier\n",
        "from sklearn.tree import DecisionTreeClassifier\n",
        "from sklearn.model_selection import StratifiedKFold, KFold\n",
        "from sklearn.linear_model import Ridge\n",
        "from sklearn.metrics import accuracy_score\n",
        "from IPython.display import display\n",
        "import matplotlib.pyplot as plt\n",
        "from collections import Counter\n",
        "from tqdm.notebook import tqdm\n",
        "import warnings\n",
        "warnings.filterwarnings(\"ignore\")\n"
      ],
      "execution_count": 37,
      "outputs": []
    },
    {
      "cell_type": "code",
      "metadata": {
        "id": "qg1T1pGHvzf-"
      },
      "source": [
        "df_test = pd.read_csv(\"/content/Test_LqhgPWU.csv\")\n",
        "df_train=pd.read_csv(\"/content/Train_aBjfeNk.csv\")"
      ],
      "execution_count": 7,
      "outputs": []
    },
    {
      "cell_type": "code",
      "metadata": {
        "colab": {
          "base_uri": "https://localhost:8080/",
          "height": 224
        },
        "id": "jORo2Umlv3-p",
        "outputId": "ff48a7a2-5848-4831-ae3f-1509ff6802fd"
      },
      "source": [
        "df_train.head()"
      ],
      "execution_count": 8,
      "outputs": [
        {
          "output_type": "execute_result",
          "data": {
            "text/html": [
              "<div>\n",
              "<style scoped>\n",
              "    .dataframe tbody tr th:only-of-type {\n",
              "        vertical-align: middle;\n",
              "    }\n",
              "\n",
              "    .dataframe tbody tr th {\n",
              "        vertical-align: top;\n",
              "    }\n",
              "\n",
              "    .dataframe thead th {\n",
              "        text-align: right;\n",
              "    }\n",
              "</style>\n",
              "<table border=\"1\" class=\"dataframe\">\n",
              "  <thead>\n",
              "    <tr style=\"text-align: right;\">\n",
              "      <th></th>\n",
              "      <th>ID</th>\n",
              "      <th>Gender</th>\n",
              "      <th>Ever_Married</th>\n",
              "      <th>Age</th>\n",
              "      <th>Graduated</th>\n",
              "      <th>Profession</th>\n",
              "      <th>Work_Experience</th>\n",
              "      <th>Spending_Score</th>\n",
              "      <th>Family_Size</th>\n",
              "      <th>Var_1</th>\n",
              "      <th>Segmentation</th>\n",
              "    </tr>\n",
              "  </thead>\n",
              "  <tbody>\n",
              "    <tr>\n",
              "      <th>0</th>\n",
              "      <td>462809</td>\n",
              "      <td>Male</td>\n",
              "      <td>No</td>\n",
              "      <td>22</td>\n",
              "      <td>No</td>\n",
              "      <td>Healthcare</td>\n",
              "      <td>1.0</td>\n",
              "      <td>Low</td>\n",
              "      <td>4.0</td>\n",
              "      <td>Cat_4</td>\n",
              "      <td>D</td>\n",
              "    </tr>\n",
              "    <tr>\n",
              "      <th>1</th>\n",
              "      <td>462643</td>\n",
              "      <td>Female</td>\n",
              "      <td>Yes</td>\n",
              "      <td>38</td>\n",
              "      <td>Yes</td>\n",
              "      <td>Engineer</td>\n",
              "      <td>NaN</td>\n",
              "      <td>Average</td>\n",
              "      <td>3.0</td>\n",
              "      <td>Cat_4</td>\n",
              "      <td>A</td>\n",
              "    </tr>\n",
              "    <tr>\n",
              "      <th>2</th>\n",
              "      <td>466315</td>\n",
              "      <td>Female</td>\n",
              "      <td>Yes</td>\n",
              "      <td>67</td>\n",
              "      <td>Yes</td>\n",
              "      <td>Engineer</td>\n",
              "      <td>1.0</td>\n",
              "      <td>Low</td>\n",
              "      <td>1.0</td>\n",
              "      <td>Cat_6</td>\n",
              "      <td>B</td>\n",
              "    </tr>\n",
              "    <tr>\n",
              "      <th>3</th>\n",
              "      <td>461735</td>\n",
              "      <td>Male</td>\n",
              "      <td>Yes</td>\n",
              "      <td>67</td>\n",
              "      <td>Yes</td>\n",
              "      <td>Lawyer</td>\n",
              "      <td>0.0</td>\n",
              "      <td>High</td>\n",
              "      <td>2.0</td>\n",
              "      <td>Cat_6</td>\n",
              "      <td>B</td>\n",
              "    </tr>\n",
              "    <tr>\n",
              "      <th>4</th>\n",
              "      <td>462669</td>\n",
              "      <td>Female</td>\n",
              "      <td>Yes</td>\n",
              "      <td>40</td>\n",
              "      <td>Yes</td>\n",
              "      <td>Entertainment</td>\n",
              "      <td>NaN</td>\n",
              "      <td>High</td>\n",
              "      <td>6.0</td>\n",
              "      <td>Cat_6</td>\n",
              "      <td>A</td>\n",
              "    </tr>\n",
              "  </tbody>\n",
              "</table>\n",
              "</div>"
            ],
            "text/plain": [
              "       ID  Gender Ever_Married  ...  Family_Size  Var_1 Segmentation\n",
              "0  462809    Male           No  ...          4.0  Cat_4            D\n",
              "1  462643  Female          Yes  ...          3.0  Cat_4            A\n",
              "2  466315  Female          Yes  ...          1.0  Cat_6            B\n",
              "3  461735    Male          Yes  ...          2.0  Cat_6            B\n",
              "4  462669  Female          Yes  ...          6.0  Cat_6            A\n",
              "\n",
              "[5 rows x 11 columns]"
            ]
          },
          "metadata": {
            "tags": []
          },
          "execution_count": 8
        }
      ]
    },
    {
      "cell_type": "code",
      "metadata": {
        "colab": {
          "base_uri": "https://localhost:8080/"
        },
        "id": "GOWZsoMov5xE",
        "outputId": "7cb9c68d-48f3-4c4c-f0cb-e4554b3bf191"
      },
      "source": [
        "train.info"
      ],
      "execution_count": 6,
      "outputs": [
        {
          "output_type": "execute_result",
          "data": {
            "text/plain": [
              "<bound method DataFrame.info of           ID  Gender Ever_Married  ...  Family_Size  Var_1 Segmentation\n",
              "0     462809    Male           No  ...          4.0  Cat_4            D\n",
              "1     462643  Female          Yes  ...          3.0  Cat_4            A\n",
              "2     466315  Female          Yes  ...          1.0  Cat_6            B\n",
              "3     461735    Male          Yes  ...          2.0  Cat_6            B\n",
              "4     462669  Female          Yes  ...          6.0  Cat_6            A\n",
              "...      ...     ...          ...  ...          ...    ...          ...\n",
              "8063  464018    Male           No  ...          7.0  Cat_1            D\n",
              "8064  464685    Male           No  ...          4.0  Cat_4            D\n",
              "8065  465406  Female           No  ...          1.0  Cat_6            D\n",
              "8066  467299  Female           No  ...          4.0  Cat_6            B\n",
              "8067  461879    Male          Yes  ...          3.0  Cat_4            B\n",
              "\n",
              "[8068 rows x 11 columns]>"
            ]
          },
          "metadata": {
            "tags": []
          },
          "execution_count": 6
        }
      ]
    },
    {
      "cell_type": "code",
      "metadata": {
        "id": "WLdRjNfdXZs-"
      },
      "source": [
        "# Convert Numeric NaNs to -999\n",
        "features = [\"Age\", \"Work_Experience\", \"Family_Size\"]\n",
        "df_train[features] = df_train[features].fillna(-999)\n",
        "df_test[features] = df_test[features].fillna(-999)"
      ],
      "execution_count": 12,
      "outputs": []
    },
    {
      "cell_type": "code",
      "metadata": {
        "colab": {
          "base_uri": "https://localhost:8080/",
          "height": 224
        },
        "id": "1nH816DixUyJ",
        "outputId": "43dfc588-a79f-4158-83cd-6ac7682d2e6d"
      },
      "source": [
        "# NaN in gender could mean that person is a transgender and does not want to disclose\n",
        "gender_mapping = {\"Male\": 0, \"Female\": 1}\n",
        "df_train[\"Gender\"] = df_train[\"Gender\"].fillna(2)\n",
        "df_test[\"Gender\"] = df_test[\"Gender\"].fillna(2)\n",
        "for gender, label in gender_mapping.items():\n",
        "    df_train[\"Gender\"] = df_train[\"Gender\"].replace(gender, label)\n",
        "    df_test[\"Gender\"] = df_test[\"Gender\"].replace(gender, label)\n",
        "\n",
        "# Nan in ever_married could mean that the person does not want to reveal\n",
        "# In that case it gives us extra info about the person type\n",
        "married_mapping = {\"Yes\": 0, \"No\": 1}\n",
        "df_train[\"Ever_Married\"] = df_train[\"Ever_Married\"].fillna(2)\n",
        "df_test[\"Ever_Married\"] = df_test[\"Ever_Married\"].fillna(2)\n",
        "for married, label in married_mapping.items():\n",
        "    df_train[\"Ever_Married\"] = df_train[\"Ever_Married\"].replace(married, label)\n",
        "    df_test[\"Ever_Married\"] = df_test[\"Ever_Married\"].replace(married, label)\n",
        "    \n",
        "# Nan in graduated could mean that the person has not graduate and does not want to reveal\n",
        "grad_mapping = {\"Yes\": 0, \"No\": 1}\n",
        "df_train[\"Graduated\"] = df_train[\"Graduated\"].fillna(1)\n",
        "df_test[\"Graduated\"] = df_test[\"Graduated\"].fillna(1)\n",
        "for grad, label in grad_mapping.items():\n",
        "    df_train[\"Graduated\"] = df_train[\"Graduated\"].replace(grad, label)\n",
        "    df_test[\"Graduated\"] = df_test[\"Graduated\"].replace(grad, label)\n",
        "\n",
        "# Nan in profession could mean that person is unemployed\n",
        "prof_mapping = {\"Artist\": 0, \"Doctor\": 1, \"Engineer\": 2, \"Entertainment\": 3, \"Executive\": 4, \"Healthcare\": 5, \"Homemaker\": 6, \"Lawyer\": 7, \"Marketing\": 8}\n",
        "df_train[\"Profession\"] = df_train[\"Profession\"].fillna(9)\n",
        "df_test[\"Profession\"] = df_test[\"Profession\"].fillna(9)\n",
        "for prof, label in prof_mapping.items():\n",
        "    df_train[\"Profession\"] = df_train[\"Profession\"].replace(prof, label)\n",
        "    df_test[\"Profession\"] = df_test[\"Profession\"].replace(prof, label)\n",
        "\n",
        "# Spending score is nan means it could be low\n",
        "ss_mapping = {\"Low\": 0, \"Average\": 1, \"High\": 2}\n",
        "df_train[\"Spending_Score\"] = df_train[\"Spending_Score\"].fillna(ss_mapping[\"Low\"])\n",
        "df_test[\"Spending_Score\"] = df_test[\"Spending_Score\"].fillna(ss_mapping[\"Low\"])\n",
        "for ss, label in ss_mapping.items():\n",
        "    df_train[\"Spending_Score\"] = df_train[\"Spending_Score\"].replace(ss, label)\n",
        "    df_test[\"Spending_Score\"] = df_test[\"Spending_Score\"].replace(ss, label)\n",
        "\n",
        "# NaN in Var1 is just another category\n",
        "var1_mapping = {\"Cat_1\": 0, \"Cat_2\": 1, \"Cat_3\": 2, \"Cat_4\": 3, \"Cat_5\": 4, \"Cat_6\": 5, \"Cat_7\": 6}\n",
        "df_train[\"Var_1\"] = df_train[\"Var_1\"].fillna(7)\n",
        "df_test[\"Var_1\"] = df_test[\"Var_1\"].fillna(7)\n",
        "for var1, label in var1_mapping.items():\n",
        "    df_train[\"Var_1\"] = df_train[\"Var_1\"].replace(var1, label)\n",
        "    df_test[\"Var_1\"] = df_test[\"Var_1\"].replace(var1, label)\n",
        "\n",
        "# Finally label encode segmentation\n",
        "seg_mapping = {\"A\": 0, \"B\": 1, \"C\": 2, \"D\": 3}\n",
        "seg_mapping_rev = {0: \"A\", 1: \"B\", 2: \"C\", 3: \"D\"}\n",
        "for seg, label in seg_mapping.items():\n",
        "    df_train[\"Segmentation\"] = df_train[\"Segmentation\"].replace(seg, label)\n",
        "\n",
        "# Based on EDA, bin the Age feature (Didn't help)\n",
        "# 1 -> young, 2 -> middle-aged, 3 -> old, 4 -> retired and old\n",
        "df_train[\"Age_group\"] = [1 if i<=33 else 2 if i>33 and i<65 else 3 if i>=65 and i<74 else 4 for i in df_train[\"Age\"].values]\n",
        "df_test[\"Age_group\"] = [1 if i<=33 else 2 if i>33 and i<65 else 3 if i>=65 and i<74 else 4 for i in df_test[\"Age\"].values]\n",
        "\n",
        "# Based on EDA, Create Lonely feature :P\n",
        "df_train[\"Lonely\"] = [1 if members<2 and age >= 60 and gender == 1 else 0 for members, age, gender in zip(df_train[\"Family_Size\"].values, df_train[\"Age\"].values, df_train[\"Gender\"].values)]\n",
        "df_test[\"Lonely\"] = [1 if members<2 and age >= 60 and gender == 1 else 0 for members, age, gender in zip(df_test[\"Family_Size\"].values, df_test[\"Age\"].values, df_test[\"Gender\"].values)]\n",
        "\n",
        "# Bin the ID column and add as feature\n",
        "est = KBinsDiscretizer(n_bins=10, encode='ordinal', strategy='kmeans')\n",
        "df_train[\"Binned_ID\"] = est.fit_transform(np.reshape(df_train[\"ID\"].values, (-1,1)))\n",
        "df_test[\"Binned_ID\"] = est.transform(np.reshape(df_test[\"ID\"].values, (-1,1)))\n",
        "\n",
        "df_train.head()"
      ],
      "execution_count": 13,
      "outputs": [
        {
          "output_type": "execute_result",
          "data": {
            "text/html": [
              "<div>\n",
              "<style scoped>\n",
              "    .dataframe tbody tr th:only-of-type {\n",
              "        vertical-align: middle;\n",
              "    }\n",
              "\n",
              "    .dataframe tbody tr th {\n",
              "        vertical-align: top;\n",
              "    }\n",
              "\n",
              "    .dataframe thead th {\n",
              "        text-align: right;\n",
              "    }\n",
              "</style>\n",
              "<table border=\"1\" class=\"dataframe\">\n",
              "  <thead>\n",
              "    <tr style=\"text-align: right;\">\n",
              "      <th></th>\n",
              "      <th>ID</th>\n",
              "      <th>Gender</th>\n",
              "      <th>Ever_Married</th>\n",
              "      <th>Age</th>\n",
              "      <th>Graduated</th>\n",
              "      <th>Profession</th>\n",
              "      <th>Work_Experience</th>\n",
              "      <th>Spending_Score</th>\n",
              "      <th>Family_Size</th>\n",
              "      <th>Var_1</th>\n",
              "      <th>Segmentation</th>\n",
              "      <th>Age_group</th>\n",
              "      <th>Lonely</th>\n",
              "      <th>Binned_ID</th>\n",
              "    </tr>\n",
              "  </thead>\n",
              "  <tbody>\n",
              "    <tr>\n",
              "      <th>0</th>\n",
              "      <td>462809</td>\n",
              "      <td>0</td>\n",
              "      <td>1</td>\n",
              "      <td>22</td>\n",
              "      <td>1</td>\n",
              "      <td>5</td>\n",
              "      <td>1.0</td>\n",
              "      <td>0</td>\n",
              "      <td>4.0</td>\n",
              "      <td>3</td>\n",
              "      <td>3</td>\n",
              "      <td>1</td>\n",
              "      <td>0</td>\n",
              "      <td>4.0</td>\n",
              "    </tr>\n",
              "    <tr>\n",
              "      <th>1</th>\n",
              "      <td>462643</td>\n",
              "      <td>1</td>\n",
              "      <td>0</td>\n",
              "      <td>38</td>\n",
              "      <td>0</td>\n",
              "      <td>2</td>\n",
              "      <td>-999.0</td>\n",
              "      <td>1</td>\n",
              "      <td>3.0</td>\n",
              "      <td>3</td>\n",
              "      <td>0</td>\n",
              "      <td>2</td>\n",
              "      <td>0</td>\n",
              "      <td>4.0</td>\n",
              "    </tr>\n",
              "    <tr>\n",
              "      <th>2</th>\n",
              "      <td>466315</td>\n",
              "      <td>1</td>\n",
              "      <td>0</td>\n",
              "      <td>67</td>\n",
              "      <td>0</td>\n",
              "      <td>2</td>\n",
              "      <td>1.0</td>\n",
              "      <td>0</td>\n",
              "      <td>1.0</td>\n",
              "      <td>5</td>\n",
              "      <td>1</td>\n",
              "      <td>3</td>\n",
              "      <td>1</td>\n",
              "      <td>8.0</td>\n",
              "    </tr>\n",
              "    <tr>\n",
              "      <th>3</th>\n",
              "      <td>461735</td>\n",
              "      <td>0</td>\n",
              "      <td>0</td>\n",
              "      <td>67</td>\n",
              "      <td>0</td>\n",
              "      <td>7</td>\n",
              "      <td>0.0</td>\n",
              "      <td>2</td>\n",
              "      <td>2.0</td>\n",
              "      <td>5</td>\n",
              "      <td>1</td>\n",
              "      <td>3</td>\n",
              "      <td>0</td>\n",
              "      <td>3.0</td>\n",
              "    </tr>\n",
              "    <tr>\n",
              "      <th>4</th>\n",
              "      <td>462669</td>\n",
              "      <td>1</td>\n",
              "      <td>0</td>\n",
              "      <td>40</td>\n",
              "      <td>0</td>\n",
              "      <td>3</td>\n",
              "      <td>-999.0</td>\n",
              "      <td>2</td>\n",
              "      <td>6.0</td>\n",
              "      <td>5</td>\n",
              "      <td>0</td>\n",
              "      <td>2</td>\n",
              "      <td>0</td>\n",
              "      <td>4.0</td>\n",
              "    </tr>\n",
              "  </tbody>\n",
              "</table>\n",
              "</div>"
            ],
            "text/plain": [
              "       ID  Gender  Ever_Married  ...  Age_group  Lonely  Binned_ID\n",
              "0  462809       0             1  ...          1       0        4.0\n",
              "1  462643       1             0  ...          2       0        4.0\n",
              "2  466315       1             0  ...          3       1        8.0\n",
              "3  461735       0             0  ...          3       0        3.0\n",
              "4  462669       1             0  ...          2       0        4.0\n",
              "\n",
              "[5 rows x 14 columns]"
            ]
          },
          "metadata": {
            "tags": []
          },
          "execution_count": 13
        }
      ]
    },
    {
      "cell_type": "code",
      "metadata": {
        "id": "jNZib11V0amP"
      },
      "source": [
        "\n",
        "# Drop the columns specified\n",
        "cols_to_remove = [\"ID\", \"Segmentation\"]\n",
        "df_train_dum, Y = df_train.drop(cols_to_remove, axis=1), df_train[cols_to_remove[-1]].values\n",
        "df_test_dum = df_test.drop(cols_to_remove[:-1], axis=1)\n",
        "\n",
        "# Specify which features are to be treated as Categorical features\n",
        "cat_feats = ['Gender', 'Ever_Married', 'Graduated', \"Var_1\", 'Profession', 'Age_group', 'Lonely', \"Binned_ID\"]\n",
        "cat_feats_inds = [df_train_dum.columns.get_loc(c) for c in cat_feats]"
      ],
      "execution_count": 14,
      "outputs": []
    },
    {
      "cell_type": "code",
      "metadata": {
        "colab": {
          "base_uri": "https://localhost:8080/"
        },
        "id": "U5sDrQ92YOZ6",
        "outputId": "618d173b-bfcb-4cd3-958d-ee36e6304234"
      },
      "source": [
        "# The usual\n",
        "outer_kfold = KFold(n_splits=5, random_state=27, shuffle=True)\n",
        "final_scores = list()\n",
        "for train, test in outer_kfold.split(df_train_dum):\n",
        "    X_train, X_test = df_train_dum.iloc[train].values, df_train_dum.iloc[test].values\n",
        "    y_train, y_test = Y[train], Y[test]\n",
        "    \n",
        "    model = XGBClassifier(random_state=27, eval_metric=\"logloss\", max_depth=3, n_estimators=82)\n",
        "    model.fit(X_train, y_train)\n",
        "    preds = model.predict(X_test)\n",
        "    \n",
        "    final_scores.append(accuracy_score(y_test, preds))\n",
        "    print(\"Score:\", final_scores[-1])\n",
        "print(\"\\nAverage Score:\", np.average(final_scores))"
      ],
      "execution_count": 19,
      "outputs": [
        {
          "output_type": "stream",
          "text": [
            "Score: 0.5359355638166047\n",
            "Score: 0.5272614622057001\n",
            "Score: 0.547087980173482\n",
            "Score: 0.5201487910725356\n",
            "Score: 0.5251084934903906\n",
            "\n",
            "Average Score: 0.5311084581517427\n"
          ],
          "name": "stdout"
        }
      ]
    },
    {
      "cell_type": "markdown",
      "metadata": {
        "id": "D_vBCevVzOr3"
      },
      "source": [
        "#Logistic Regression"
      ]
    },
    {
      "cell_type": "code",
      "metadata": {
        "colab": {
          "base_uri": "https://localhost:8080/"
        },
        "id": "hT_bkqfkzIAe",
        "outputId": "bb52073e-31af-425f-a941-a54cb4bea0f3"
      },
      "source": [
        "lr = LogisticRegression()\n",
        "lr.fit(X_train, y_train)\n",
        "\n",
        "y_pred_lr = lr.predict(X_test)\n",
        "\n",
        "acc_lr = accuracy_score(y_test, y_pred_lr)\n",
        "conf = confusion_matrix(y_test, y_pred_lr)\n",
        "clf_report = classification_report(y_test, y_pred_lr)\n",
        "\n",
        "print(f\"Accuracy Score of Logistic Regression is : {acc_lr}\")\n",
        "print(f\"Confusion Matrix : \\n{conf}\")\n",
        "print(f\"Classification Report : \\n{clf_report}\")\n",
        "\n",
        "#convert into binary values 0/1 for classification\n",
        "for i in range(0, X_test.shape[0]):\n",
        "    if y_pred_lr[i]>=.5:       # setting threshold to .5\n",
        "       y_pred_lr[i]=1\n",
        "    else:  \n",
        "       y_pred_lr[i]=0"
      ],
      "execution_count": 17,
      "outputs": [
        {
          "output_type": "stream",
          "text": [
            "Accuracy Score of Logistic Regression is : 0.4463732176069436\n",
            "Confusion Matrix : \n",
            "[[106  24 140 111]\n",
            " [ 79  35 189  68]\n",
            " [ 38  28 262  66]\n",
            " [ 96   8  46 317]]\n",
            "Classification Report : \n",
            "              precision    recall  f1-score   support\n",
            "\n",
            "           0       0.33      0.28      0.30       381\n",
            "           1       0.37      0.09      0.15       371\n",
            "           2       0.41      0.66      0.51       394\n",
            "           3       0.56      0.68      0.62       467\n",
            "\n",
            "    accuracy                           0.45      1613\n",
            "   macro avg       0.42      0.43      0.39      1613\n",
            "weighted avg       0.43      0.45      0.41      1613\n",
            "\n"
          ],
          "name": "stdout"
        }
      ]
    },
    {
      "cell_type": "code",
      "metadata": {
        "colab": {
          "base_uri": "https://localhost:8080/",
          "height": 282
        },
        "id": "d9lzbmiU1NWX",
        "outputId": "097cf468-18b1-460a-ab85-5353d1cb6d05"
      },
      "source": [
        "#Confusion matrix\n",
        "\n",
        "cm_lr = confusion_matrix(y_test, y_pred_lr)\n",
        "sns.heatmap(cm_lr, annot=True)"
      ],
      "execution_count": 18,
      "outputs": [
        {
          "output_type": "execute_result",
          "data": {
            "text/plain": [
              "<matplotlib.axes._subplots.AxesSubplot at 0x7fc9b5da0210>"
            ]
          },
          "metadata": {
            "tags": []
          },
          "execution_count": 18
        },
        {
          "output_type": "display_data",
          "data": {
            "image/png": "[encoded data removed]",
            "text/plain": [
              "<Figure size 432x288 with 2 Axes>"
            ]
          },
          "metadata": {
            "tags": [],
            "needs_background": "light"
          }
        }
      ]
    },
    {
      "cell_type": "markdown",
      "metadata": {
        "id": "VMXldRL91AH-"
      },
      "source": [
        "#KNN"
      ]
    },
    {
      "cell_type": "code",
      "metadata": {
        "colab": {
          "base_uri": "https://localhost:8080/"
        },
        "id": "SRQ5-0Tg0xp2",
        "outputId": "6330acca-c524-4bd5-fc70-a076a2035857"
      },
      "source": [
        "knn = KNeighborsClassifier()\n",
        "knn.fit(X_train, y_train)\n",
        "\n",
        "y_pred_knn = knn.predict(X_test)\n",
        "\n",
        "acc_knn = accuracy_score(y_test, y_pred_knn)\n",
        "conf = confusion_matrix(y_test, y_pred_knn)\n",
        "clf_report = classification_report(y_test, y_pred_knn)\n",
        "\n",
        "print(f\"Accuracy Score of KNN is : {acc_knn}\")\n",
        "print(f\"Confusion Matrix : \\n{conf}\")\n",
        "print(f\"Classification Report : \\n{clf_report}\")\n",
        "#convert into binary values 0/1 for classification\n",
        "for i in range(0, X_test.shape[0]):\n",
        "    if y_pred_knn[i]>=.5:       # setting threshold to .5\n",
        "       y_pred_knn[i]=1\n",
        "    else:  \n",
        "       y_pred_knn[i]=0"
      ],
      "execution_count": 20,
      "outputs": [
        {
          "output_type": "stream",
          "text": [
            "Accuracy Score of KNN is : 0.44699318040917546\n",
            "Confusion Matrix : \n",
            "[[172  86  60  63]\n",
            " [120 108  97  46]\n",
            " [ 83  96 171  44]\n",
            " [114  45  38 270]]\n",
            "Classification Report : \n",
            "              precision    recall  f1-score   support\n",
            "\n",
            "           0       0.35      0.45      0.40       381\n",
            "           1       0.32      0.29      0.31       371\n",
            "           2       0.47      0.43      0.45       394\n",
            "           3       0.64      0.58      0.61       467\n",
            "\n",
            "    accuracy                           0.45      1613\n",
            "   macro avg       0.44      0.44      0.44      1613\n",
            "weighted avg       0.46      0.45      0.45      1613\n",
            "\n"
          ],
          "name": "stdout"
        }
      ]
    },
    {
      "cell_type": "code",
      "metadata": {
        "colab": {
          "base_uri": "https://localhost:8080/",
          "height": 284
        },
        "id": "ONuLdOy21cSg",
        "outputId": "00a5c067-4678-4507-bf56-14ea37b7754e"
      },
      "source": [
        "#Confusion matrix\n",
        "\n",
        "cm_knn = confusion_matrix(y_test, y_pred_knn)\n",
        "sns.heatmap(cm_knn, annot=True)"
      ],
      "execution_count": 21,
      "outputs": [
        {
          "output_type": "execute_result",
          "data": {
            "text/plain": [
              "<matplotlib.axes._subplots.AxesSubplot at 0x7fc9b5c75b10>"
            ]
          },
          "metadata": {
            "tags": []
          },
          "execution_count": 21
        },
        {
          "output_type": "display_data",
          "data": {
            "image/png": "[encoded data removed]",
            "text/plain": [
              "<Figure size 432x288 with 2 Axes>"
            ]
          },
          "metadata": {
            "tags": [],
            "needs_background": "light"
          }
        }
      ]
    },
    {
      "cell_type": "markdown",
      "metadata": {
        "id": "UoRDOWvO1mCX"
      },
      "source": [
        "#Decision Tree Classifier"
      ]
    },
    {
      "cell_type": "code",
      "metadata": {
        "colab": {
          "base_uri": "https://localhost:8080/"
        },
        "id": "IhgFTe8C1mNC",
        "outputId": "04a880a4-c756-4ce0-cfbe-136bb0bf751b"
      },
      "source": [
        "dtc = DecisionTreeClassifier()\n",
        "dtc.fit(X_train, y_train)\n",
        "\n",
        "y_pred_dtc = dtc.predict(X_test)\n",
        "\n",
        "acc_dtc = accuracy_score(y_test, y_pred_dtc)\n",
        "conf = confusion_matrix(y_test, y_pred_dtc)\n",
        "clf_report = classification_report(y_test, y_pred_dtc)\n",
        "\n",
        "print(f\"Accuracy Score of Decision Tree is : {acc_dtc}\")\n",
        "print(f\"Confusion Matrix : \\n{conf}\")\n",
        "print(f\"Classification Report : \\n{clf_report}\")\n",
        "#convert into binary values 0/1 for classification\n",
        "for i in range(0, X_test.shape[0]):\n",
        "    if y_pred_dtc[i]>=.5:       # setting threshold to .5\n",
        "       y_pred_dtc[i]=1\n",
        "    else:  \n",
        "       y_pred_dtc[i]=0"
      ],
      "execution_count": 22,
      "outputs": [
        {
          "output_type": "stream",
          "text": [
            "Accuracy Score of Decision Tree is : 0.4190948543087415\n",
            "Confusion Matrix : \n",
            "[[131 100  63  87]\n",
            " [ 94 121 108  48]\n",
            " [ 64 125 173  32]\n",
            " [ 84  71  61 251]]\n",
            "Classification Report : \n",
            "              precision    recall  f1-score   support\n",
            "\n",
            "           0       0.35      0.34      0.35       381\n",
            "           1       0.29      0.33      0.31       371\n",
            "           2       0.43      0.44      0.43       394\n",
            "           3       0.60      0.54      0.57       467\n",
            "\n",
            "    accuracy                           0.42      1613\n",
            "   macro avg       0.42      0.41      0.41      1613\n",
            "weighted avg       0.43      0.42      0.42      1613\n",
            "\n"
          ],
          "name": "stdout"
        }
      ]
    },
    {
      "cell_type": "code",
      "metadata": {
        "colab": {
          "base_uri": "https://localhost:8080/",
          "height": 282
        },
        "id": "G2CbcqIT1uI3",
        "outputId": "ea6dadc2-ed3d-4fe3-cdbe-72ab6cc979a7"
      },
      "source": [
        "#Confusion matrix\n",
        "\n",
        "cm_dtc = confusion_matrix(y_test, y_pred_dtc)\n",
        "sns.heatmap(cm_dtc, annot=True)"
      ],
      "execution_count": 23,
      "outputs": [
        {
          "output_type": "execute_result",
          "data": {
            "text/plain": [
              "<matplotlib.axes._subplots.AxesSubplot at 0x7fc9b57e4490>"
            ]
          },
          "metadata": {
            "tags": []
          },
          "execution_count": 23
        },
        {
          "output_type": "display_data",
          "data": {
            "image/png": "[encoded data removed]",
            "text/plain": [
              "<Figure size 432x288 with 2 Axes>"
            ]
          },
          "metadata": {
            "tags": [],
            "needs_background": "light"
          }
        }
      ]
    },
    {
      "cell_type": "markdown",
      "metadata": {
        "id": "L_mbEJvP1-uP"
      },
      "source": [
        "##Random Forest Classifier"
      ]
    },
    {
      "cell_type": "code",
      "metadata": {
        "colab": {
          "base_uri": "https://localhost:8080/"
        },
        "id": "5vyolnyb1-_-",
        "outputId": "2e23cc8b-a577-4432-a236-a9e14e5ee0d1"
      },
      "source": [
        "rd_clf = RandomForestClassifier()\n",
        "rd_clf.fit(X_train, y_train)\n",
        "\n",
        "y_pred_rd_clf = rd_clf.predict(X_test)\n",
        "\n",
        "acc_rd_clf = accuracy_score(y_test, y_pred_rd_clf)\n",
        "conf = confusion_matrix(y_test, y_pred_rd_clf)\n",
        "clf_report = classification_report(y_test, y_pred_rd_clf)\n",
        "\n",
        "print(f\"Accuracy Score of Random Forest is : {acc_rd_clf}\")\n",
        "print(f\"Confusion Matrix : \\n{conf}\")\n",
        "print(f\"Classification Report : \\n{clf_report}\")"
      ],
      "execution_count": 24,
      "outputs": [
        {
          "output_type": "stream",
          "text": [
            "Accuracy Score of Random Forest is : 0.49969001859888407\n",
            "Confusion Matrix : \n",
            "[[160  90  44  87]\n",
            " [ 92 120 109  50]\n",
            " [ 48  89 208  49]\n",
            " [ 98  28  23 318]]\n",
            "Classification Report : \n",
            "              precision    recall  f1-score   support\n",
            "\n",
            "           0       0.40      0.42      0.41       381\n",
            "           1       0.37      0.32      0.34       371\n",
            "           2       0.54      0.53      0.53       394\n",
            "           3       0.63      0.68      0.65       467\n",
            "\n",
            "    accuracy                           0.50      1613\n",
            "   macro avg       0.49      0.49      0.49      1613\n",
            "weighted avg       0.49      0.50      0.50      1613\n",
            "\n"
          ],
          "name": "stdout"
        }
      ]
    },
    {
      "cell_type": "code",
      "metadata": {
        "id": "6P6pn8NR2GV6"
      },
      "source": [
        "for i in range(0, X_test.shape[0]):\n",
        "    if y_pred_rd_clf[i]>=.5:       # setting threshold to .5\n",
        "       y_pred_rd_clf[i]=1\n",
        "    else:  \n",
        "       y_pred_rd_clf[i]=0"
      ],
      "execution_count": 25,
      "outputs": []
    },
    {
      "cell_type": "code",
      "metadata": {
        "colab": {
          "base_uri": "https://localhost:8080/",
          "height": 282
        },
        "id": "r9DTTHF22NLI",
        "outputId": "b0f5b197-8e59-4e61-df47-20693b0d371d"
      },
      "source": [
        "#Confusion matrix\n",
        "\n",
        "cm_rd_clf = confusion_matrix(y_test, y_pred_rd_clf)\n",
        "sns.heatmap(cm_rd_clf, annot=True)"
      ],
      "execution_count": 26,
      "outputs": [
        {
          "output_type": "execute_result",
          "data": {
            "text/plain": [
              "<matplotlib.axes._subplots.AxesSubplot at 0x7fc9b5677d50>"
            ]
          },
          "metadata": {
            "tags": []
          },
          "execution_count": 26
        },
        {
          "output_type": "display_data",
          "data": {
            "image/png": "[encoded data removed]",
            "text/plain": [
              "<Figure size 432x288 with 2 Axes>"
            ]
          },
          "metadata": {
            "tags": [],
            "needs_background": "light"
          }
        }
      ]
    },
    {
      "cell_type": "markdown",
      "metadata": {
        "id": "ONl0ebbt2Xve"
      },
      "source": [
        "#Ada Boost Classifier"
      ]
    },
    {
      "cell_type": "code",
      "metadata": {
        "colab": {
          "base_uri": "https://localhost:8080/"
        },
        "id": "EaHQ5_xi2XGT",
        "outputId": "e186b767-62d4-44ba-a70f-d3a243ea9a3e"
      },
      "source": [
        "ada = AdaBoostClassifier(base_estimator = dtc)\n",
        "ada.fit(X_train, y_train)\n",
        "\n",
        "y_pred_ada = ada.predict(X_test)\n",
        "\n",
        "acc_ada = accuracy_score(y_test, y_pred_ada)\n",
        "conf = confusion_matrix(y_test, y_pred_ada)\n",
        "clf_report = classification_report(y_test, y_pred_ada)\n",
        "\n",
        "print(f\"Accuracy Score of Ada Boost Classifier is : {acc_ada}\")\n",
        "print(f\"Confusion Matrix : \\n{conf}\")\n",
        "print(f\"Classification Report : \\n{clf_report}\")"
      ],
      "execution_count": 27,
      "outputs": [
        {
          "output_type": "stream",
          "text": [
            "Accuracy Score of Ada Boost Classifier is : 0.4717916924984501\n",
            "Confusion Matrix : \n",
            "[[150  92  54  85]\n",
            " [ 96 130 101  44]\n",
            " [ 47 107 188  52]\n",
            " [105  37  32 293]]\n",
            "Classification Report : \n",
            "              precision    recall  f1-score   support\n",
            "\n",
            "           0       0.38      0.39      0.39       381\n",
            "           1       0.36      0.35      0.35       371\n",
            "           2       0.50      0.48      0.49       394\n",
            "           3       0.62      0.63      0.62       467\n",
            "\n",
            "    accuracy                           0.47      1613\n",
            "   macro avg       0.46      0.46      0.46      1613\n",
            "weighted avg       0.47      0.47      0.47      1613\n",
            "\n"
          ],
          "name": "stdout"
        }
      ]
    },
    {
      "cell_type": "code",
      "metadata": {
        "id": "dTKk_aOg2gmK"
      },
      "source": [
        "for i in range(0, X_test.shape[0]):\n",
        "    if y_pred_ada[i]>=.5:       # setting threshold to .5\n",
        "       y_pred_ada[i]=1\n",
        "    else:  \n",
        "       y_pred_ada[i]=0"
      ],
      "execution_count": 28,
      "outputs": []
    },
    {
      "cell_type": "code",
      "metadata": {
        "colab": {
          "base_uri": "https://localhost:8080/",
          "height": 282
        },
        "id": "jx0CyddT2mex",
        "outputId": "d7c3e32a-77a7-466a-9cea-81e5c2163f7a"
      },
      "source": [
        "#Confusion matrix\n",
        "\n",
        "cm_rd_ada = confusion_matrix(y_test, y_pred_ada)\n",
        "sns.heatmap(cm_rd_ada, annot=True)"
      ],
      "execution_count": 29,
      "outputs": [
        {
          "output_type": "execute_result",
          "data": {
            "text/plain": [
              "<matplotlib.axes._subplots.AxesSubplot at 0x7fc9b555ee10>"
            ]
          },
          "metadata": {
            "tags": []
          },
          "execution_count": 29
        },
        {
          "output_type": "display_data",
          "data": {
            "image/png": "[encoded data removed]",
            "text/plain": [
              "<Figure size 432x288 with 2 Axes>"
            ]
          },
          "metadata": {
            "tags": [],
            "needs_background": "light"
          }
        }
      ]
    },
    {
      "cell_type": "markdown",
      "metadata": {
        "id": "xdZdmiF42w3F"
      },
      "source": [
        "#Gradient Boosting Classifier"
      ]
    },
    {
      "cell_type": "code",
      "metadata": {
        "colab": {
          "base_uri": "https://localhost:8080/"
        },
        "id": "-tiIBJ-b22nW",
        "outputId": "37e36a4d-381a-45bf-cfec-88deac7acf35"
      },
      "source": [
        "gb = GradientBoostingClassifier()\n",
        "gb.fit(X_train, y_train)\n",
        "\n",
        "y_pred_gb = gb.predict(X_test)\n",
        "\n",
        "acc_gb = accuracy_score(y_test, y_pred_gb)\n",
        "conf = confusion_matrix(y_test, y_pred_gb)\n",
        "clf_report = classification_report(y_test, y_pred_gb)\n",
        "\n",
        "print(f\"Accuracy Score of Ada Boost Classifier is : {acc_gb}\")\n",
        "print(f\"Confusion Matrix : \\n{conf}\")\n",
        "print(f\"Classification Report : \\n{clf_report}\")"
      ],
      "execution_count": 30,
      "outputs": [
        {
          "output_type": "stream",
          "text": [
            "Accuracy Score of Ada Boost Classifier is : 0.5238685678859268\n",
            "Confusion Matrix : \n",
            "[[189  82  38  72]\n",
            " [113 101 109  48]\n",
            " [ 45  76 218  55]\n",
            " [ 95  26   9 337]]\n",
            "Classification Report : \n",
            "              precision    recall  f1-score   support\n",
            "\n",
            "           0       0.43      0.50      0.46       381\n",
            "           1       0.35      0.27      0.31       371\n",
            "           2       0.58      0.55      0.57       394\n",
            "           3       0.66      0.72      0.69       467\n",
            "\n",
            "    accuracy                           0.52      1613\n",
            "   macro avg       0.51      0.51      0.51      1613\n",
            "weighted avg       0.52      0.52      0.52      1613\n",
            "\n"
          ],
          "name": "stdout"
        }
      ]
    },
    {
      "cell_type": "code",
      "metadata": {
        "id": "V4n5r3d925_M"
      },
      "source": [
        "for i in range(0, X_test.shape[0]):\n",
        "    if y_pred_gb[i]>=.5:       # setting threshold to .5\n",
        "       y_pred_gb[i]=1\n",
        "    else:  \n",
        "       y_pred_gb[i]=0"
      ],
      "execution_count": 31,
      "outputs": []
    },
    {
      "cell_type": "code",
      "metadata": {
        "colab": {
          "base_uri": "https://localhost:8080/",
          "height": 282
        },
        "id": "MBmxwAZH22py",
        "outputId": "c7c69332-be1b-4638-e2d2-69cf5ac49b08"
      },
      "source": [
        "#Confusion matrix\n",
        "\n",
        "cm_rd_gb = confusion_matrix(y_test, y_pred_gb)\n",
        "sns.heatmap(cm_rd_gb, annot=True)"
      ],
      "execution_count": 32,
      "outputs": [
        {
          "output_type": "execute_result",
          "data": {
            "text/plain": [
              "<matplotlib.axes._subplots.AxesSubplot at 0x7fc9b5457c10>"
            ]
          },
          "metadata": {
            "tags": []
          },
          "execution_count": 32
        },
        {
          "output_type": "display_data",
          "data": {
            "image/png": "[encoded data removed]",
            "text/plain": [
              "<Figure size 432x288 with 2 Axes>"
            ]
          },
          "metadata": {
            "tags": [],
            "needs_background": "light"
          }
        }
      ]
    },
    {
      "cell_type": "markdown",
      "metadata": {
        "id": "nZVRNR-0x4Wu"
      },
      "source": [
        "##XGBOOST"
      ]
    },
    {
      "cell_type": "code",
      "metadata": {
        "id": "GVAymw39bJZ7"
      },
      "source": [
        " model = XGBClassifier(random_state=27, eval_metric=\"logloss\", max_depth=3, n_estimators=82)\n",
        " model.fit(X_train, y_train)\n",
        "preds = model.predict(X_test)"
      ],
      "execution_count": 59,
      "outputs": []
    },
    {
      "cell_type": "code",
      "metadata": {
        "colab": {
          "base_uri": "https://localhost:8080/"
        },
        "id": "K_baND1EbV25",
        "outputId": "9239df14-954c-497c-f66d-71d0356efe31"
      },
      "source": [
        "acc_xgb=accuracy_score(y_test, preds)\n",
        "acc_xgb\n"
      ],
      "execution_count": 69,
      "outputs": [
        {
          "output_type": "execute_result",
          "data": {
            "text/plain": [
              "0.5251084934903906"
            ]
          },
          "metadata": {
            "tags": []
          },
          "execution_count": 69
        }
      ]
    },
    {
      "cell_type": "code",
      "metadata": {
        "id": "5aMY3LcDcU57"
      },
      "source": [
        "final_scores.append(accuracy_score(y_test, preds))\n",
        "print(\"Score:\", final_scores[-1])\n",
        "print(\"\\nAverage Score:\", np.average(final_scores))"
      ],
      "execution_count": null,
      "outputs": []
    },
    {
      "cell_type": "code",
      "metadata": {
        "colab": {
          "base_uri": "https://localhost:8080/",
          "height": 282
        },
        "id": "kr8B1Jy2yRe9",
        "outputId": "2804d347-cc7a-40af-d9ed-4ae7dd269c5d"
      },
      "source": [
        "cm_xgb = confusion_matrix(y_test, preds)\n",
        "sns.heatmap(cm_xgb, annot=True)\n",
        "\n",
        "print (\"Accuracy with XGBoost= \", metrics.accuracy_score(preds, y_test))\n"
      ],
      "execution_count": 64,
      "outputs": [
        {
          "output_type": "stream",
          "text": [
            "Accuracy with XGBoost=  0.5251084934903906\n"
          ],
          "name": "stdout"
        },
        {
          "output_type": "display_data",
          "data": {
            "image/png": "[encoded data removed]",
            "text/plain": [
              "<Figure size 432x288 with 2 Axes>"
            ]
          },
          "metadata": {
            "tags": [],
            "needs_background": "light"
          }
        }
      ]
    },
    {
      "cell_type": "markdown",
      "metadata": {
        "id": "ov54Bkl33WPg"
      },
      "source": [
        "#Cat Boost Classifier"
      ]
    },
    {
      "cell_type": "code",
      "metadata": {
        "colab": {
          "base_uri": "https://localhost:8080/"
        },
        "id": "rVr3C6H83XrW",
        "outputId": "6ed7b548-b5e8-45f9-d134-598cf67c88e9"
      },
      "source": [
        "cat = CatBoostClassifier(iterations=100)\n",
        "cat.fit(X_train, y_train)\n",
        "\n",
        "y_pred_cat = cat.predict(X_test)\n",
        "\n",
        "acc_cat = accuracy_score(y_test, y_pred_cat)\n",
        "conf = confusion_matrix(y_test, y_pred_cat)\n",
        "clf_report = classification_report(y_test, y_pred_cat)\n",
        "print(f\"Accuracy Score of Ada Boost Classifier is : {acc_cat}\")\n",
        "print(f\"Confusion Matrix : \\n{conf}\")\n",
        "print(f\"Classification Report : \\n{clf_report}\")"
      ],
      "execution_count": 44,
      "outputs": [
        {
          "output_type": "stream",
          "text": [
            "Learning rate set to 0.5\n",
            "0:\tlearn: 1.1754044\ttotal: 52.4ms\tremaining: 5.19s\n",
            "1:\tlearn: 1.1103612\ttotal: 58.1ms\tremaining: 2.85s\n",
            "2:\tlearn: 1.0850798\ttotal: 63.2ms\tremaining: 2.04s\n",
            "3:\tlearn: 1.0627757\ttotal: 68.2ms\tremaining: 1.64s\n",
            "4:\tlearn: 1.0500189\ttotal: 73.1ms\tremaining: 1.39s\n",
            "5:\tlearn: 1.0397407\ttotal: 78.1ms\tremaining: 1.22s\n",
            "6:\tlearn: 1.0342881\ttotal: 82.6ms\tremaining: 1.1s\n",
            "7:\tlearn: 1.0295539\ttotal: 87.2ms\tremaining: 1s\n",
            "8:\tlearn: 1.0221959\ttotal: 92ms\tremaining: 930ms\n",
            "9:\tlearn: 1.0136861\ttotal: 96.6ms\tremaining: 870ms\n",
            "10:\tlearn: 1.0080778\ttotal: 101ms\tremaining: 819ms\n",
            "11:\tlearn: 1.0048449\ttotal: 106ms\tremaining: 776ms\n",
            "12:\tlearn: 0.9960834\ttotal: 110ms\tremaining: 739ms\n",
            "13:\tlearn: 0.9894822\ttotal: 115ms\tremaining: 708ms\n",
            "14:\tlearn: 0.9843969\ttotal: 120ms\tremaining: 681ms\n",
            "15:\tlearn: 0.9804071\ttotal: 125ms\tremaining: 655ms\n",
            "16:\tlearn: 0.9759648\ttotal: 129ms\tremaining: 632ms\n",
            "17:\tlearn: 0.9729054\ttotal: 134ms\tremaining: 611ms\n",
            "18:\tlearn: 0.9650725\ttotal: 139ms\tremaining: 593ms\n",
            "19:\tlearn: 0.9611271\ttotal: 144ms\tremaining: 575ms\n",
            "20:\tlearn: 0.9551610\ttotal: 148ms\tremaining: 559ms\n",
            "21:\tlearn: 0.9503007\ttotal: 153ms\tremaining: 543ms\n",
            "22:\tlearn: 0.9433003\ttotal: 158ms\tremaining: 529ms\n",
            "23:\tlearn: 0.9388982\ttotal: 163ms\tremaining: 516ms\n",
            "24:\tlearn: 0.9351253\ttotal: 168ms\tremaining: 503ms\n",
            "25:\tlearn: 0.9295718\ttotal: 172ms\tremaining: 491ms\n",
            "26:\tlearn: 0.9262411\ttotal: 177ms\tremaining: 480ms\n",
            "27:\tlearn: 0.9235095\ttotal: 182ms\tremaining: 469ms\n",
            "28:\tlearn: 0.9210957\ttotal: 187ms\tremaining: 457ms\n",
            "29:\tlearn: 0.9145842\ttotal: 196ms\tremaining: 458ms\n",
            "30:\tlearn: 0.9106770\ttotal: 206ms\tremaining: 460ms\n",
            "31:\tlearn: 0.9078477\ttotal: 211ms\tremaining: 449ms\n",
            "32:\tlearn: 0.9043030\ttotal: 217ms\tremaining: 440ms\n",
            "33:\tlearn: 0.9007746\ttotal: 221ms\tremaining: 430ms\n",
            "34:\tlearn: 0.8977472\ttotal: 226ms\tremaining: 420ms\n",
            "35:\tlearn: 0.8952039\ttotal: 231ms\tremaining: 411ms\n",
            "36:\tlearn: 0.8915884\ttotal: 236ms\tremaining: 403ms\n",
            "37:\tlearn: 0.8865554\ttotal: 241ms\tremaining: 394ms\n",
            "38:\tlearn: 0.8843099\ttotal: 246ms\tremaining: 385ms\n",
            "39:\tlearn: 0.8819275\ttotal: 251ms\tremaining: 377ms\n",
            "40:\tlearn: 0.8790672\ttotal: 256ms\tremaining: 369ms\n",
            "41:\tlearn: 0.8758188\ttotal: 261ms\tremaining: 360ms\n",
            "42:\tlearn: 0.8729109\ttotal: 266ms\tremaining: 353ms\n",
            "43:\tlearn: 0.8689636\ttotal: 271ms\tremaining: 345ms\n",
            "44:\tlearn: 0.8650232\ttotal: 276ms\tremaining: 337ms\n",
            "45:\tlearn: 0.8638462\ttotal: 281ms\tremaining: 330ms\n",
            "46:\tlearn: 0.8608574\ttotal: 286ms\tremaining: 322ms\n",
            "47:\tlearn: 0.8584775\ttotal: 291ms\tremaining: 315ms\n",
            "48:\tlearn: 0.8553404\ttotal: 295ms\tremaining: 307ms\n",
            "49:\tlearn: 0.8524992\ttotal: 300ms\tremaining: 300ms\n",
            "50:\tlearn: 0.8489521\ttotal: 305ms\tremaining: 293ms\n",
            "51:\tlearn: 0.8467388\ttotal: 310ms\tremaining: 286ms\n",
            "52:\tlearn: 0.8429583\ttotal: 315ms\tremaining: 280ms\n",
            "53:\tlearn: 0.8402554\ttotal: 320ms\tremaining: 272ms\n",
            "54:\tlearn: 0.8368288\ttotal: 325ms\tremaining: 266ms\n",
            "55:\tlearn: 0.8355980\ttotal: 329ms\tremaining: 259ms\n",
            "56:\tlearn: 0.8338182\ttotal: 334ms\tremaining: 252ms\n",
            "57:\tlearn: 0.8299504\ttotal: 339ms\tremaining: 245ms\n",
            "58:\tlearn: 0.8283104\ttotal: 345ms\tremaining: 240ms\n",
            "59:\tlearn: 0.8233641\ttotal: 350ms\tremaining: 233ms\n",
            "60:\tlearn: 0.8210165\ttotal: 355ms\tremaining: 227ms\n",
            "61:\tlearn: 0.8166713\ttotal: 360ms\tremaining: 220ms\n",
            "62:\tlearn: 0.8150566\ttotal: 364ms\tremaining: 214ms\n",
            "63:\tlearn: 0.8097487\ttotal: 372ms\tremaining: 209ms\n",
            "64:\tlearn: 0.8077322\ttotal: 385ms\tremaining: 207ms\n",
            "65:\tlearn: 0.8051226\ttotal: 390ms\tremaining: 201ms\n",
            "66:\tlearn: 0.8015700\ttotal: 400ms\tremaining: 197ms\n",
            "67:\tlearn: 0.7994817\ttotal: 405ms\tremaining: 190ms\n",
            "68:\tlearn: 0.7963074\ttotal: 409ms\tremaining: 184ms\n",
            "69:\tlearn: 0.7926014\ttotal: 414ms\tremaining: 178ms\n",
            "70:\tlearn: 0.7897472\ttotal: 420ms\tremaining: 171ms\n",
            "71:\tlearn: 0.7868029\ttotal: 425ms\tremaining: 165ms\n",
            "72:\tlearn: 0.7849531\ttotal: 430ms\tremaining: 159ms\n",
            "73:\tlearn: 0.7820147\ttotal: 435ms\tremaining: 153ms\n",
            "74:\tlearn: 0.7796101\ttotal: 440ms\tremaining: 147ms\n",
            "75:\tlearn: 0.7761717\ttotal: 445ms\tremaining: 141ms\n",
            "76:\tlearn: 0.7743704\ttotal: 450ms\tremaining: 134ms\n",
            "77:\tlearn: 0.7702256\ttotal: 455ms\tremaining: 128ms\n",
            "78:\tlearn: 0.7688263\ttotal: 459ms\tremaining: 122ms\n",
            "79:\tlearn: 0.7664301\ttotal: 464ms\tremaining: 116ms\n",
            "80:\tlearn: 0.7645990\ttotal: 471ms\tremaining: 110ms\n",
            "81:\tlearn: 0.7621807\ttotal: 476ms\tremaining: 104ms\n",
            "82:\tlearn: 0.7596033\ttotal: 481ms\tremaining: 98.4ms\n",
            "83:\tlearn: 0.7568836\ttotal: 486ms\tremaining: 92.6ms\n",
            "84:\tlearn: 0.7546387\ttotal: 491ms\tremaining: 86.7ms\n",
            "85:\tlearn: 0.7521218\ttotal: 496ms\tremaining: 80.8ms\n",
            "86:\tlearn: 0.7501561\ttotal: 501ms\tremaining: 74.9ms\n",
            "87:\tlearn: 0.7478980\ttotal: 506ms\tremaining: 69ms\n",
            "88:\tlearn: 0.7454010\ttotal: 511ms\tremaining: 63.1ms\n",
            "89:\tlearn: 0.7434202\ttotal: 515ms\tremaining: 57.3ms\n",
            "90:\tlearn: 0.7394270\ttotal: 521ms\tremaining: 51.5ms\n",
            "91:\tlearn: 0.7372312\ttotal: 526ms\tremaining: 45.7ms\n",
            "92:\tlearn: 0.7356036\ttotal: 531ms\tremaining: 39.9ms\n",
            "93:\tlearn: 0.7344456\ttotal: 536ms\tremaining: 34.2ms\n",
            "94:\tlearn: 0.7319114\ttotal: 541ms\tremaining: 28.5ms\n",
            "95:\tlearn: 0.7304931\ttotal: 546ms\tremaining: 22.7ms\n",
            "96:\tlearn: 0.7280701\ttotal: 550ms\tremaining: 17ms\n",
            "97:\tlearn: 0.7252870\ttotal: 555ms\tremaining: 11.3ms\n",
            "98:\tlearn: 0.7234155\ttotal: 560ms\tremaining: 5.66ms\n",
            "99:\tlearn: 0.7219248\ttotal: 565ms\tremaining: 0us\n",
            "Accuracy Score of Ada Boost Classifier is : 0.5089894606323621\n",
            "Confusion Matrix : \n",
            "[[166  89  38  88]\n",
            " [ 91 129 105  46]\n",
            " [ 40  84 217  53]\n",
            " [113  21  24 309]]\n",
            "Classification Report : \n",
            "              precision    recall  f1-score   support\n",
            "\n",
            "           0       0.40      0.44      0.42       381\n",
            "           1       0.40      0.35      0.37       371\n",
            "           2       0.57      0.55      0.56       394\n",
            "           3       0.62      0.66      0.64       467\n",
            "\n",
            "    accuracy                           0.51      1613\n",
            "   macro avg       0.50      0.50      0.50      1613\n",
            "weighted avg       0.51      0.51      0.51      1613\n",
            "\n"
          ],
          "name": "stdout"
        }
      ]
    },
    {
      "cell_type": "code",
      "metadata": {
        "id": "d5rMD3ME3XzV"
      },
      "source": [
        "#Converting probabilities into 1 or 0  \n",
        "for i in range(0, X_test.shape[0]): \n",
        "    if y_pred_cat[i]>=.5:       # setting threshold to .5 \n",
        "       y_pred_cat[i]=1 \n",
        "    else: \n",
        "       y_pred_cat[i]=0 "
      ],
      "execution_count": 45,
      "outputs": []
    },
    {
      "cell_type": "code",
      "metadata": {
        "colab": {
          "base_uri": "https://localhost:8080/",
          "height": 284
        },
        "id": "-eWtQl-I3X2N",
        "outputId": "8379e9f1-7e4a-48b4-f272-d04adca25538"
      },
      "source": [
        "#Confusion Matrix\n",
        "cm_cat = confusion_matrix(y_test, y_pred_cat)\n",
        "sns.heatmap(cm_cat, annot=True)\n",
        "\n"
      ],
      "execution_count": 46,
      "outputs": [
        {
          "output_type": "execute_result",
          "data": {
            "text/plain": [
              "<matplotlib.axes._subplots.AxesSubplot at 0x7fc9b53087d0>"
            ]
          },
          "metadata": {
            "tags": []
          },
          "execution_count": 46
        },
        {
          "output_type": "display_data",
          "data": {
            "image/png": "[encoded data removed]",
            "text/plain": [
              "<Figure size 432x288 with 2 Axes>"
            ]
          },
          "metadata": {
            "tags": [],
            "needs_background": "light"
          }
        }
      ]
    },
    {
      "cell_type": "markdown",
      "metadata": {
        "id": "cgj5d5d034Q_"
      },
      "source": [
        "#Extra Trees Classifier"
      ]
    },
    {
      "cell_type": "code",
      "metadata": {
        "colab": {
          "base_uri": "https://localhost:8080/"
        },
        "id": "nvrFr77_33xM",
        "outputId": "f2d6983e-9359-4056-afed-7413a4c09899"
      },
      "source": [
        "etc = ExtraTreesClassifier()\n",
        "etc.fit(X_train, y_train)\n",
        "\n",
        "y_pred_etc = etc.predict(X_test)\n",
        "\n",
        "acc_etc = accuracy_score(y_test, y_pred_etc)\n",
        "conf = confusion_matrix(y_test, y_pred_etc)\n",
        "clf_report = classification_report(y_test, y_pred_etc)\n",
        "\n",
        "print(f\"Accuracy Score of Ada Boost Classifier is : {acc_etc}\")\n",
        "print(f\"Confusion Matrix : \\n{conf}\")\n",
        "print(f\"Classification Report : \\n{clf_report}\")"
      ],
      "execution_count": 47,
      "outputs": [
        {
          "output_type": "stream",
          "text": [
            "Accuracy Score of Ada Boost Classifier is : 0.4841909485430874\n",
            "Confusion Matrix : \n",
            "[[165  89  38  89]\n",
            " [ 96 124 107  44]\n",
            " [ 49  98 196  51]\n",
            " [104  33  34 296]]\n",
            "Classification Report : \n",
            "              precision    recall  f1-score   support\n",
            "\n",
            "           0       0.40      0.43      0.42       381\n",
            "           1       0.36      0.33      0.35       371\n",
            "           2       0.52      0.50      0.51       394\n",
            "           3       0.62      0.63      0.63       467\n",
            "\n",
            "    accuracy                           0.48      1613\n",
            "   macro avg       0.47      0.47      0.47      1613\n",
            "weighted avg       0.48      0.48      0.48      1613\n",
            "\n"
          ],
          "name": "stdout"
        }
      ]
    },
    {
      "cell_type": "code",
      "metadata": {
        "id": "7pfbMHTs3_B9"
      },
      "source": [
        "#Converting probabilities into 1 or 0  \n",
        "for i in range(0, X_test.shape[0]): \n",
        "    if y_pred_etc[i]>=.5:       # setting threshold to .5 \n",
        "       y_pred_etc[i]=1 \n",
        "    else: \n",
        "       y_pred_etc[i]=0 "
      ],
      "execution_count": 48,
      "outputs": []
    },
    {
      "cell_type": "code",
      "metadata": {
        "colab": {
          "base_uri": "https://localhost:8080/",
          "height": 282
        },
        "id": "CvmZfZHt4LX_",
        "outputId": "fda679e8-c1bd-4c7b-83c7-34c3735900c8"
      },
      "source": [
        "#Confusion Matrix\n",
        "cm_etc = confusion_matrix(y_test, y_pred_etc)\n",
        "sns.heatmap(cm_etc, annot=True)\n"
      ],
      "execution_count": 49,
      "outputs": [
        {
          "output_type": "execute_result",
          "data": {
            "text/plain": [
              "<matplotlib.axes._subplots.AxesSubplot at 0x7fc9b4294990>"
            ]
          },
          "metadata": {
            "tags": []
          },
          "execution_count": 49
        },
        {
          "output_type": "display_data",
          "data": {
            "image/png": "[encoded data removed]",
            "text/plain": [
              "<Figure size 432x288 with 2 Axes>"
            ]
          },
          "metadata": {
            "tags": [],
            "needs_background": "light"
          }
        }
      ]
    },
    {
      "cell_type": "markdown",
      "metadata": {
        "id": "M-EKw0Pm4TsB"
      },
      "source": [
        "#LGBM Classifier"
      ]
    },
    {
      "cell_type": "code",
      "metadata": {
        "colab": {
          "base_uri": "https://localhost:8080/"
        },
        "id": "LxCJTOl24VvV",
        "outputId": "91fdd2e6-ab39-472d-927c-8c2c41d8dbaa"
      },
      "source": [
        "lgbm = LGBMClassifier(learning_rate = 1)\n",
        "lgbm.fit(X_train, y_train)\n",
        "\n",
        "y_pred_lgbm = lgbm.predict(X_test)\n",
        "\n",
        "acc_lgbm = accuracy_score(y_test, y_pred_lgbm)\n",
        "conf = confusion_matrix(y_test, y_pred_lgbm)\n",
        "clf_report = classification_report(y_test, y_pred_lgbm)\n",
        "\n",
        "print(f\"Accuracy Score of Ada Boost Classifier is : {acc_lgbm}\")\n",
        "print(f\"Confusion Matrix : \\n{conf}\")\n",
        "print(f\"Classification Report : \\n{clf_report}\")"
      ],
      "execution_count": 50,
      "outputs": [
        {
          "output_type": "stream",
          "text": [
            "Accuracy Score of Ada Boost Classifier is : 0.486050836949783\n",
            "Confusion Matrix : \n",
            "[[157  92  47  85]\n",
            " [ 91 125 112  43]\n",
            " [ 53 100 197  44]\n",
            " [ 84  41  37 305]]\n",
            "Classification Report : \n",
            "              precision    recall  f1-score   support\n",
            "\n",
            "           0       0.41      0.41      0.41       381\n",
            "           1       0.35      0.34      0.34       371\n",
            "           2       0.50      0.50      0.50       394\n",
            "           3       0.64      0.65      0.65       467\n",
            "\n",
            "    accuracy                           0.49      1613\n",
            "   macro avg       0.47      0.48      0.47      1613\n",
            "weighted avg       0.48      0.49      0.49      1613\n",
            "\n"
          ],
          "name": "stdout"
        }
      ]
    },
    {
      "cell_type": "code",
      "metadata": {
        "id": "eOw-jc1Y4V-i"
      },
      "source": [
        "#Converting probabilities into 1 or 0  \n",
        "for i in range(0, X_test.shape[0]): \n",
        "    if y_pred_lgbm[i]>=.5:       # setting threshold to .5 \n",
        "       y_pred_lgbm[i]=1 \n",
        "    else: \n",
        "       y_pred_lgbm[i]=0 "
      ],
      "execution_count": 51,
      "outputs": []
    },
    {
      "cell_type": "code",
      "metadata": {
        "colab": {
          "base_uri": "https://localhost:8080/",
          "height": 282
        },
        "id": "qyCqg-rF4hfw",
        "outputId": "ba191ceb-a17a-461f-9aff-6ef904318267"
      },
      "source": [
        "#Confusion Matrix\n",
        "cm_lgbm = confusion_matrix(y_test, y_pred_lgbm)\n",
        "sns.heatmap(cm_lgbm, annot=True)"
      ],
      "execution_count": 52,
      "outputs": [
        {
          "output_type": "execute_result",
          "data": {
            "text/plain": [
              "<matplotlib.axes._subplots.AxesSubplot at 0x7fc9b418c410>"
            ]
          },
          "metadata": {
            "tags": []
          },
          "execution_count": 52
        },
        {
          "output_type": "display_data",
          "data": {
            "image/png": "[encoded data removed]",
            "text/plain": [
              "<Figure size 432x288 with 2 Axes>"
            ]
          },
          "metadata": {
            "tags": [],
            "needs_background": "light"
          }
        }
      ]
    },
    {
      "cell_type": "markdown",
      "metadata": {
        "id": "nYGWttXr43ZR"
      },
      "source": [
        ""
      ]
    },
    {
      "cell_type": "code",
      "metadata": {
        "colab": {
          "base_uri": "https://localhost:8080/",
          "height": 359
        },
        "id": "mZ2rSWvG42r4",
        "outputId": "3ed65986-1e07-4b52-ea6b-a29490158040"
      },
      "source": [
        "models = pd.DataFrame({\n",
        "    'Model' : ['Logistic Regression', 'KNN', 'Decision Tree Classifier', 'Random Forest Classifier','Ada Boost Classifier',\n",
        "             'XGBOOST','Gradient Boosting Classifier','Cat Boost', 'Extra Trees Classifier', 'LGBM'],\n",
        "    'Score' : [acc_lr, acc_knn, acc_dtc, acc_rd_clf, acc_ada,acc_xgb,acc_gb, acc_cat, acc_etc, acc_lgbm]\n",
        "})\n",
        "\n",
        "\n",
        "models.sort_values(by = 'Score', ascending = False)"
      ],
      "execution_count": 70,
      "outputs": [
        {
          "output_type": "execute_result",
          "data": {
            "text/html": [
              "<div>\n",
              "<style scoped>\n",
              "    .dataframe tbody tr th:only-of-type {\n",
              "        vertical-align: middle;\n",
              "    }\n",
              "\n",
              "    .dataframe tbody tr th {\n",
              "        vertical-align: top;\n",
              "    }\n",
              "\n",
              "    .dataframe thead th {\n",
              "        text-align: right;\n",
              "    }\n",
              "</style>\n",
              "<table border=\"1\" class=\"dataframe\">\n",
              "  <thead>\n",
              "    <tr style=\"text-align: right;\">\n",
              "      <th></th>\n",
              "      <th>Model</th>\n",
              "      <th>Score</th>\n",
              "    </tr>\n",
              "  </thead>\n",
              "  <tbody>\n",
              "    <tr>\n",
              "      <th>5</th>\n",
              "      <td>XGBOOST</td>\n",
              "      <td>0.525108</td>\n",
              "    </tr>\n",
              "    <tr>\n",
              "      <th>6</th>\n",
              "      <td>Gradient Boosting Classifier</td>\n",
              "      <td>0.525108</td>\n",
              "    </tr>\n",
              "    <tr>\n",
              "      <th>7</th>\n",
              "      <td>Cat Boost</td>\n",
              "      <td>0.508989</td>\n",
              "    </tr>\n",
              "    <tr>\n",
              "      <th>3</th>\n",
              "      <td>Random Forest Classifier</td>\n",
              "      <td>0.499690</td>\n",
              "    </tr>\n",
              "    <tr>\n",
              "      <th>9</th>\n",
              "      <td>LGBM</td>\n",
              "      <td>0.486051</td>\n",
              "    </tr>\n",
              "    <tr>\n",
              "      <th>8</th>\n",
              "      <td>Extra Trees Classifier</td>\n",
              "      <td>0.484191</td>\n",
              "    </tr>\n",
              "    <tr>\n",
              "      <th>4</th>\n",
              "      <td>Ada Boost Classifier</td>\n",
              "      <td>0.471792</td>\n",
              "    </tr>\n",
              "    <tr>\n",
              "      <th>1</th>\n",
              "      <td>KNN</td>\n",
              "      <td>0.446993</td>\n",
              "    </tr>\n",
              "    <tr>\n",
              "      <th>0</th>\n",
              "      <td>Logistic Regression</td>\n",
              "      <td>0.446373</td>\n",
              "    </tr>\n",
              "    <tr>\n",
              "      <th>2</th>\n",
              "      <td>Decision Tree Classifier</td>\n",
              "      <td>0.419095</td>\n",
              "    </tr>\n",
              "  </tbody>\n",
              "</table>\n",
              "</div>"
            ],
            "text/plain": [
              "                          Model     Score\n",
              "5                       XGBOOST  0.525108\n",
              "6  Gradient Boosting Classifier  0.525108\n",
              "7                     Cat Boost  0.508989\n",
              "3      Random Forest Classifier  0.499690\n",
              "9                          LGBM  0.486051\n",
              "8        Extra Trees Classifier  0.484191\n",
              "4          Ada Boost Classifier  0.471792\n",
              "1                           KNN  0.446993\n",
              "0           Logistic Regression  0.446373\n",
              "2      Decision Tree Classifier  0.419095"
            ]
          },
          "metadata": {
            "tags": []
          },
          "execution_count": 70
        }
      ]
    }
  ]
}